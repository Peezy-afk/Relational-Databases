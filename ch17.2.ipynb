{
 "cells": [
  {
   "cell_type": "code",
   "execution_count": 1,
   "id": "8541f232",
   "metadata": {},
   "outputs": [],
   "source": [
    "# Joshua Perez\n",
    "# CIS 2532 NET 01\n",
    "# 12/11/2022\n",
    "\"\"\"Cursor methods and attributes \n",
    "Using fetchall and description for metadata gathering\"\"\""
   ]
  },
  {
   "cell_type": "code",
   "execution_count": 2,
   "id": "0cfdf852",
   "metadata": {},
   "outputs": [],
   "source": [
    "# Import then open db\n",
    "import sqlite3"
   ]
  },
  {
   "cell_type": "code",
   "execution_count": 3,
   "id": "bce2c4a4",
   "metadata": {},
   "outputs": [],
   "source": [
    "connection = sqlite3.connect('books.db')"
   ]
  },
  {
   "cell_type": "code",
   "execution_count": 4,
   "id": "8c158361",
   "metadata": {},
   "outputs": [],
   "source": [
    "# Create cursor then use cursor execute to execute select statement\n",
    "cursor = connection.cursor()"
   ]
  },
  {
   "cell_type": "code",
   "execution_count": 5,
   "id": "c9425b8f",
   "metadata": {},
   "outputs": [
    {
     "data": {
      "text/plain": [
       "<sqlite3.Cursor at 0x1d2582cd260>"
      ]
     },
     "execution_count": 5,
     "metadata": {},
     "output_type": "execute_result"
    }
   ],
   "source": [
    "# selects all titles\n",
    "cursor.execute(\"SELECT * FROM titles\")"
   ]
  },
  {
   "cell_type": "code",
   "execution_count": 6,
   "id": "ac78cbc8",
   "metadata": {},
   "outputs": [],
   "source": [
    "# Gather metadata\n",
    "dscrip = cursor.description"
   ]
  },
  {
   "cell_type": "code",
   "execution_count": 7,
   "id": "d5c732e8",
   "metadata": {},
   "outputs": [],
   "source": [
    "# Gather query results to return as tuples\n",
    "display = cursor.fetchall()"
   ]
  },
  {
   "cell_type": "code",
   "execution_count": 18,
   "id": "4dd5056d",
   "metadata": {},
   "outputs": [
    {
     "name": "stdout",
     "output_type": "stream",
     "text": [
      "0135404673Intro to Python for CS and DS1         \n",
      "0132151006Internet & WWW How to Program5         \n",
      "0134743350Java How to Program11        \n",
      "0133976890C How to Program8         \n",
      "0133406954Visual Basic 2012 How to Program6         \n",
      "0134601548Visual C# How to Program6         \n",
      "0136151574Visual C++ How to Program2         \n",
      "0134448235C++ How to Program10        \n",
      "0134444302Android How to Program3         \n",
      "0134289366Android 6 for Programmers3         \n"
     ]
    }
   ],
   "source": [
    "# Tabular format\n",
    "for row in display:\n",
    "    print(\"%-10s%-10s%-10s\" % (row[0], row[1], row[2]))"
   ]
  },
  {
   "cell_type": "code",
   "execution_count": null,
   "id": "63062604",
   "metadata": {},
   "outputs": [],
   "source": []
  }
 ],
 "metadata": {
  "kernelspec": {
   "display_name": "Python 3 (ipykernel)",
   "language": "python",
   "name": "python3"
  },
  "language_info": {
   "codemirror_mode": {
    "name": "ipython",
    "version": 3
   },
   "file_extension": ".py",
   "mimetype": "text/x-python",
   "name": "python",
   "nbconvert_exporter": "python",
   "pygments_lexer": "ipython3",
   "version": "3.9.12"
  }
 },
 "nbformat": 4,
 "nbformat_minor": 5
}
